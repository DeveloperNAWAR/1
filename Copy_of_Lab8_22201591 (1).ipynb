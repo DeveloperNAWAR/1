{
  "cells": [
    {
      "cell_type": "code",
      "execution_count": 8,
      "metadata": {
        "id": "D6vC520OPeTa"
      },
      "outputs": [],
      "source": [
        "class BTNode:\n",
        "  def __init__(self, elem):\n",
        "    self.elem = elem\n",
        "    self.right = None\n",
        "    self.left = None"
      ]
    },
    {
      "cell_type": "code",
      "execution_count": 3,
      "metadata": {
        "id": "UDTKlm4-PfNM"
      },
      "outputs": [],
      "source": [
        "def inorder(root):\n",
        "  if root == None:\n",
        "    return\n",
        "\n",
        "  inorder(root.left)\n",
        "  print(root.elem, end = ' ')\n",
        "  inorder(root.right)"
      ]
    },
    {
      "cell_type": "code",
      "execution_count": 4,
      "metadata": {
        "colab": {
          "base_uri": "https://localhost:8080/"
        },
        "id": "Rtc22SPzPgzM",
        "outputId": "13b11f7f-ee6a-40b1-e9b7-7e2b9c4255ab"
      },
      "outputs": [
        {
          "output_type": "stream",
          "name": "stdout",
          "text": [
            "H D B E A I F J C G k "
          ]
        }
      ],
      "source": [
        "def tree_construction(arr, i = 1):\n",
        "  if i>=len(arr) or arr[i] == None:\n",
        "    return None\n",
        "  p = BTNode(arr[i])\n",
        "  p.left = tree_construction(arr, 2*i)\n",
        "  p.right = tree_construction(arr, 2*i+1)\n",
        "  return p\n",
        "\n",
        "\n",
        "root2 = tree_construction([None, 'A', 'B', 'C', 'D', 'E', 'F', 'G', 'H', None, None, None, 'I', 'J', None, 'k'])\n",
        "inorder(root2)"
      ]
    },
    {
      "cell_type": "markdown",
      "metadata": {
        "id": "S2nNCJNhPqGq"
      },
      "source": [
        "Task 1"
      ]
    },
    {
      "cell_type": "code",
      "execution_count": 5,
      "metadata": {
        "id": "zbBHU3FoPieb",
        "colab": {
          "base_uri": "https://localhost:8080/"
        },
        "outputId": "799035f9-89aa-4f27-c290-9635fcb95ca4"
      },
      "outputs": [
        {
          "output_type": "stream",
          "name": "stdout",
          "text": [
            "Given Tree Inorder Traversal:  40 20 60 10 30 \n",
            "Mirrored Tree Inorder Traversal:  30 10 60 20 40 "
          ]
        }
      ],
      "source": [
        "def convert_mirror(root):\n",
        "  if root==None:\n",
        "    return None\n",
        "\n",
        "  root.right,root.left=root.left,root.right\n",
        "  convert_mirror(root.left)\n",
        "  convert_mirror(root.right)\n",
        "  return root\n",
        "\n",
        "\n",
        "#DRIVER CODE\n",
        "root = BTNode(10)\n",
        "n1 = BTNode(20)\n",
        "n2 = BTNode(30)\n",
        "n3 = BTNode(40)\n",
        "n4 = BTNode(60)\n",
        "\n",
        "root.left = n1\n",
        "root.right = n2\n",
        "\n",
        "n1.left = n3\n",
        "n1.right = n4\n",
        "\n",
        "print('Given Tree Inorder Traversal: ', end = ' ')\n",
        "inorder(root) #Given Tree Inorder Traversal:  40 20 60 10 30\n",
        "print()\n",
        "\n",
        "root2 = convert_mirror(root)\n",
        "print('Mirrored Tree Inorder Traversal: ', end = ' ')\n",
        "inorder(root2) #Mirrored Tree Inorder Traversal:  30 10 60 20 40"
      ]
    },
    {
      "cell_type": "markdown",
      "metadata": {
        "id": "c-TBf3m0PrtK"
      },
      "source": [
        "Task 2"
      ]
    },
    {
      "cell_type": "code",
      "execution_count": 6,
      "metadata": {
        "id": "lsuxinlBPmji",
        "colab": {
          "base_uri": "https://localhost:8080/"
        },
        "outputId": "a6a74d7d-f2e0-4822-9aba-c8d2487e3168"
      },
      "outputs": [
        {
          "output_type": "stream",
          "name": "stdout",
          "text": [
            "Given Tree Inorder Traversal:  3 9 -5 4 2 7 \n",
            "Level Wise Smallest Value:  {0: 4, 1: 2, 2: -5}\n"
          ]
        }
      ],
      "source": [
        "\n",
        "def smallest_level(root):\n",
        "    if root==None:\n",
        "        return None\n",
        "\n",
        "    result = {}\n",
        "\n",
        "    def traverse(node, level):\n",
        "        if level not in result:\n",
        "            result[level] = node.elem\n",
        "        else:\n",
        "            if result[level] < node.elem:\n",
        "                 result[level] = result[level]\n",
        "            else :\n",
        "                 result[level]=node.elem\n",
        "\n",
        "\n",
        "        if node.left:\n",
        "            traverse(node.left, level + 1)\n",
        "        if node.right:\n",
        "            traverse(node.right, level + 1)\n",
        "\n",
        "    traverse(root, 0)\n",
        "\n",
        "    return result\n",
        "\n",
        "\n",
        "#DRIVER CODE\n",
        "root = tree_construction([None, 4,9,2,3,-5,None,7])\n",
        "print('Given Tree Inorder Traversal: ', end = ' ')\n",
        "inorder(root) #Given Tree Inorder Traversal:  3 9 5 4 2 7\n",
        "print()\n",
        "print('Level Wise Smallest Value: ', end = ' ')\n",
        "print(smallest_level(root)) #Level Wise Smallest Value:  {0: 4, 1: 2, 2: -5}"
      ]
    },
    {
      "cell_type": "markdown",
      "metadata": {
        "id": "7r3lH3aWPz2d"
      },
      "source": [
        "Task 3"
      ]
    },
    {
      "cell_type": "code",
      "execution_count": 7,
      "metadata": {
        "id": "zFwP64v4Pu6d",
        "colab": {
          "base_uri": "https://localhost:8080/"
        },
        "outputId": "36fbb886-b931-4ac3-8ebc-a1f789667b75"
      },
      "outputs": [
        {
          "output_type": "stream",
          "name": "stdout",
          "text": [
            "Given Tree Inorder Traversal:  4 8 10 12 14 20 22 \n",
            "Inorder predecessor of node 20: 14\n"
          ]
        }
      ],
      "source": [
        "def find_max(node):\n",
        "    while node.right:\n",
        "        node = node.right\n",
        "    return node\n",
        "def inorder_predecessor(root, x):\n",
        "    if x.elem==None:\n",
        "        return None\n",
        "\n",
        "    if x.left!=None:\n",
        "        return find_max(x.left)\n",
        "\n",
        "    pred = None\n",
        "    while root!=None:\n",
        "        if x.elem > root.elem:\n",
        "            pred = root\n",
        "            root = root.right\n",
        "        elif x.elem < root.elem:\n",
        "            root = root.left\n",
        "        else:\n",
        "            break\n",
        "\n",
        "    return pred\n",
        "#DRIVER CODE\n",
        "root = BTNode(20)\n",
        "n1 = BTNode(8)\n",
        "n2 = BTNode(22)\n",
        "n3 = BTNode(4)\n",
        "n4 = BTNode(12)\n",
        "n5 = BTNode(10)\n",
        "n6 = BTNode(14)\n",
        "\n",
        "root.left = n1\n",
        "root.right = n2\n",
        "\n",
        "n1.left = n3\n",
        "n1.right = n4\n",
        "\n",
        "n4.left = n5\n",
        "n4.right = n6\n",
        "\n",
        "print('Given Tree Inorder Traversal: ', end = ' ')\n",
        "inorder(root) #Given Tree Inorder Traversal:  4 8 10 12 14 20 22\n",
        "print()\n",
        "\n",
        "x = root\n",
        "print(f'Inorder predecessor of node {x.elem}: {inorder_predecessor(root, x).elem}') #Inorder predecessor of node 20: 14"
      ]
    },
    {
      "cell_type": "markdown",
      "metadata": {
        "id": "t3IGW4OaP8Vy"
      },
      "source": [
        "Task 4"
      ]
    },
    {
      "cell_type": "code",
      "execution_count": 10,
      "metadata": {
        "id": "d1A-tR7hP2fI",
        "colab": {
          "base_uri": "https://localhost:8080/"
        },
        "outputId": "acba848d-5eb3-45c9-95ff-4d1f98554d4d"
      },
      "outputs": [
        {
          "output_type": "stream",
          "name": "stdout",
          "text": [
            "LCA(6, 12) = 8\n",
            "LCA(20, 6) = 20\n",
            "LCA(18, 22) = 20\n",
            "LCA(20, 25) = 20\n",
            "LCA(10, 12) = 12\n"
          ]
        }
      ],
      "source": [
        "\n",
        "def LCA(root, x, y):\n",
        "    if root==None:\n",
        "        return None\n",
        "\n",
        "    if x < root.elem and y < root.elem:\n",
        "        return LCA(root.left, x, y)\n",
        "\n",
        "\n",
        "    elif x > root.elem and y > root.elem:\n",
        "        return LCA(root.right, x, y)\n",
        "\n",
        "    # If one value is smaller and the other is greater, current root is LCA\n",
        "    else:\n",
        "        return root.elem\n",
        "\n",
        "\n",
        "#DRIVER CODE\n",
        "print(\"LCA(6, 12) =\", LCA(root, 6, 12))\n",
        "print(\"LCA(20, 6) =\", LCA(root, 20, 6))\n",
        "print(\"LCA(18, 22) =\", LCA(root, 18, 22))\n",
        "print(\"LCA(20, 25) =\", LCA(root, 20, 25))\n",
        "print(\"LCA(10, 12) =\", LCA(root, 10, 12))\n"
      ]
    },
    {
      "cell_type": "markdown",
      "source": [
        "BONUS TASK 1"
      ],
      "metadata": {
        "id": "T3Pimbw_PLHY"
      }
    },
    {
      "cell_type": "code",
      "execution_count": 23,
      "metadata": {
        "id": "m4E9_E8PThk6",
        "colab": {
          "base_uri": "https://localhost:8080/"
        },
        "outputId": "72966569-13cc-4f6b-e3c6-c241304bd652"
      },
      "outputs": [
        {
          "output_type": "stream",
          "name": "stdout",
          "text": [
            "Sample Output: True\n"
          ]
        }
      ],
      "source": [
        "\n",
        "\n",
        "def if_sum_tree(root):\n",
        "    if root==None:\n",
        "        return True\n",
        "\n",
        "    # Check if the node is a leaf node\n",
        "    if root.left==None and root.right==None:\n",
        "        return True\n",
        "\n",
        "    # Recursively check if the left and right subtrees are sum trees\n",
        "    if root.left==None:\n",
        "      left_sum = 0\n",
        "    else :\n",
        "      left_sum = root.left\n",
        "    if root.right==None:\n",
        "      right_sum = 0\n",
        "    else :\n",
        "      right_sum=root.right\n",
        "\n",
        "    if root.elem== int(left_sum)+int(right_sum) and \\\n",
        "       if_sum_tree(root.left) and if_sum_tree(root.right):\n",
        "        return True\n",
        "\n",
        "    return False\n",
        "\n",
        "\n",
        "root = BTNode(26)\n",
        "n1 = BTNode(10)\n",
        "n2 = BTNode(3)\n",
        "n3 = BTNode(4)\n",
        "n4 = BTNode(6)\n",
        "n5 = BTNode(3)\n",
        "\n",
        "# Testing the if_sum_tree function\n",
        "result = if_sum_tree(root)\n",
        "print(\"Sample Output:\", result)\n",
        "\n"
      ]
    },
    {
      "cell_type": "markdown",
      "metadata": {
        "id": "SBD-0xoZP_ni"
      },
      "source": [
        "Bonus Task 2"
      ]
    },
    {
      "cell_type": "code",
      "source": [
        "\n",
        "def level_difference(root):\n",
        "    if root==None:\n",
        "        return 0\n",
        "\n",
        "    # Initialize sums for odd and even levels\n",
        "    odd_sum = 0\n",
        "    even_sum = 0\n",
        "\n",
        "    # Perform a level order traversal\n",
        "    queue = [root]\n",
        "    level = 1\n",
        "\n",
        "    while queue:\n",
        "        level_size = len(queue)\n",
        "\n",
        "        for i in range(level_size):\n",
        "            node = queue.pop(0)\n",
        "\n",
        "            # Add the node's value to the appropriate sum based on the level\n",
        "            if level % 2 == 1:  # Odd level\n",
        "                odd_sum += node.elem\n",
        "            else:  # Even level\n",
        "                even_sum += node.elem\n",
        "\n",
        "            # Add the node's children to the queue\n",
        "            if node.left:\n",
        "                queue.append(node.left)\n",
        "            if node.right:\n",
        "                queue.append(node.right)\n",
        "\n",
        "        level += 1\n",
        "\n",
        "    # Return the difference between sums of odd and even levels\n",
        "    return odd_sum - even_sum\n",
        "\n",
        "#DRIVER CODE\n",
        "root = BTNode(1)\n",
        "n2 = BTNode(2)\n",
        "n3 = BTNode(3)\n",
        "n4 = BTNode(4)\n",
        "n5 = BTNode(5)\n",
        "n6 = BTNode(6)\n",
        "n7 = BTNode(7)\n",
        "n8 = BTNode(8)\n",
        "root.left = n2\n",
        "root.right = n3\n",
        "\n",
        "n2.left = n4\n",
        "n3.left = n5\n",
        "n3.right = n6\n",
        "\n",
        "n5.left = n7\n",
        "n5.right = n8\n",
        "result = level_difference(root)\n",
        "print(\"Sample Output:\", result)"
      ],
      "metadata": {
        "id": "U_LYhaRIxZCb",
        "colab": {
          "base_uri": "https://localhost:8080/"
        },
        "outputId": "d4ba207a-6d0f-44ae-a2f8-4103f326d834"
      },
      "execution_count": 25,
      "outputs": [
        {
          "output_type": "stream",
          "name": "stdout",
          "text": [
            "Sample Output: -4\n"
          ]
        }
      ]
    }
  ],
  "metadata": {
    "colab": {
      "provenance": []
    },
    "kernelspec": {
      "display_name": "Python 3",
      "name": "python3"
    },
    "language_info": {
      "name": "python"
    }
  },
  "nbformat": 4,
  "nbformat_minor": 0
}